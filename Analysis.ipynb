{
 "cells": [
  {
   "cell_type": "markdown",
   "metadata": {},
   "source": [
    "## Introduction\n",
    "\n",
    "This notebook performs a detailed analysis of the financial market data. The goal is to understand the trends, patterns, and relationships within the data to build a predictive model."
   ]
  },
  {
   "cell_type": "markdown",
   "metadata": {},
   "source": [
    "## Exploratory Data Analysis (EDA)\n",
    "\n",
    "In this section, we explore the data using various visualizations to understand its characteristics and identify potential patterns and relationships between variables."
   ]
  },
  {
   "cell_type": "code",
   "execution_count": 1,
   "id": "492c8302",
   "metadata": {},
   "outputs": [],
   "source": [
    "\n",
    "import pandas as pd\n",
    "import numpy as np\n",
    "import matplotlib.pyplot as plt \n",
    "import seaborn as sns\n",
    "import plotly.express as px\n",
    "import plotly.graph_objects as go\n",
    "from prophet import Prophet\n",
    "\n",
    "sns.set_style(\"whitegrid\")\n",
    "plt.rcParams[\"figure.figsize\"] = (14,5)"
   ]
  },
  {
   "cell_type": "markdown",
   "metadata": {},
   "source": [
    "## Data Loading and Preprocessing\n",
    "\n",
    "In this section, we load the dataset and perform initial preprocessing steps. This includes handling missing values, converting data types, and preparing the data for analysis."
   ]
  },
  {
   "cell_type": "code",
   "execution_count": 26,
   "id": "5d0d7d70",
   "metadata": {},
   "outputs": [],
   "source": [
    "# Cell 2 ── Load raw CSV\n",
    "url = \"ai_financial_market_daily_realistic_synthetic.csv\"\n",
    "df  = pd.read_csv(url)"
   ]
  },
  {
   "cell_type": "code",
   "execution_count": 27,
   "id": "b7462e68",
   "metadata": {},
   "outputs": [
    {
     "data": {
      "text/html": [
       "<div>\n",
       "<style scoped>\n",
       "    .dataframe tbody tr th:only-of-type {\n",
       "        vertical-align: middle;\n",
       "    }\n",
       "\n",
       "    .dataframe tbody tr th {\n",
       "        vertical-align: top;\n",
       "    }\n",
       "\n",
       "    .dataframe thead th {\n",
       "        text-align: right;\n",
       "    }\n",
       "</style>\n",
       "<table border=\"1\" class=\"dataframe\">\n",
       "  <thead>\n",
       "    <tr style=\"text-align: right;\">\n",
       "      <th></th>\n",
       "      <th>Company</th>\n",
       "      <th>R&amp;D_Spending_USD_Mn</th>\n",
       "      <th>AI_Revenue_USD_Mn</th>\n",
       "      <th>AI_Revenue_Growth_%</th>\n",
       "      <th>Event</th>\n",
       "      <th>Stock_Impact_%</th>\n",
       "    </tr>\n",
       "    <tr>\n",
       "      <th>Date</th>\n",
       "      <th></th>\n",
       "      <th></th>\n",
       "      <th></th>\n",
       "      <th></th>\n",
       "      <th></th>\n",
       "      <th></th>\n",
       "    </tr>\n",
       "  </thead>\n",
       "  <tbody>\n",
       "    <tr>\n",
       "      <th>2015-01-01</th>\n",
       "      <td>OpenAI</td>\n",
       "      <td>5.92</td>\n",
       "      <td>0.63</td>\n",
       "      <td>-36.82</td>\n",
       "      <td>NaN</td>\n",
       "      <td>-0.36</td>\n",
       "    </tr>\n",
       "    <tr>\n",
       "      <th>2015-01-01</th>\n",
       "      <td>Google</td>\n",
       "      <td>79.89</td>\n",
       "      <td>30.19</td>\n",
       "      <td>0.64</td>\n",
       "      <td>NaN</td>\n",
       "      <td>-0.02</td>\n",
       "    </tr>\n",
       "    <tr>\n",
       "      <th>2015-01-01</th>\n",
       "      <td>Meta</td>\n",
       "      <td>50.39</td>\n",
       "      <td>18.95</td>\n",
       "      <td>-5.23</td>\n",
       "      <td>NaN</td>\n",
       "      <td>-0.42</td>\n",
       "    </tr>\n",
       "    <tr>\n",
       "      <th>2015-01-02</th>\n",
       "      <td>OpenAI</td>\n",
       "      <td>5.41</td>\n",
       "      <td>1.81</td>\n",
       "      <td>80.59</td>\n",
       "      <td>NaN</td>\n",
       "      <td>0.41</td>\n",
       "    </tr>\n",
       "    <tr>\n",
       "      <th>2015-01-02</th>\n",
       "      <td>Google</td>\n",
       "      <td>78.99</td>\n",
       "      <td>30.44</td>\n",
       "      <td>1.47</td>\n",
       "      <td>NaN</td>\n",
       "      <td>-0.98</td>\n",
       "    </tr>\n",
       "  </tbody>\n",
       "</table>\n",
       "</div>"
      ],
      "text/plain": [
       "           Company  R&D_Spending_USD_Mn  AI_Revenue_USD_Mn  \\\n",
       "Date                                                         \n",
       "2015-01-01  OpenAI                 5.92               0.63   \n",
       "2015-01-01  Google                79.89              30.19   \n",
       "2015-01-01    Meta                50.39              18.95   \n",
       "2015-01-02  OpenAI                 5.41               1.81   \n",
       "2015-01-02  Google                78.99              30.44   \n",
       "\n",
       "            AI_Revenue_Growth_% Event  Stock_Impact_%  \n",
       "Date                                                   \n",
       "2015-01-01               -36.82   NaN           -0.36  \n",
       "2015-01-01                 0.64   NaN           -0.02  \n",
       "2015-01-01                -5.23   NaN           -0.42  \n",
       "2015-01-02                80.59   NaN            0.41  \n",
       "2015-01-02                 1.47   NaN           -0.98  "
      ]
     },
     "execution_count": 27,
     "metadata": {},
     "output_type": "execute_result"
    }
   ],
   "source": [
    "# Cell 3 ── Basic cleaning & type casting\n",
    "df = df.rename(columns=str.strip)                 # remove accidental spaces\n",
    "df[\"Date\"] = pd.to_datetime(df[\"Date\"])\n",
    "num_cols = [\"R&D_Spending_USD_Mn\", \"AI_Revenue_USD_Mn\", \n",
    "            \"AI_Revenue_Growth_%\", \"Stock_Impact_%\"]\n",
    "for c in num_cols:\n",
    "    df[c] = pd.to_numeric(df[c], errors=\"coerce\")\n",
    "df = df.sort_values(\"Date\").set_index(\"Date\")\n",
    "df.head()"
   ]
  },
  {
   "cell_type": "code",
   "execution_count": 28,
   "id": "1f20a32e",
   "metadata": {},
   "outputs": [
    {
     "name": "stdout",
     "output_type": "stream",
     "text": [
      "<class 'pandas.core.frame.DataFrame'>\n",
      "DatetimeIndex: 10959 entries, 2015-01-01 to 2024-12-31\n",
      "Data columns (total 6 columns):\n",
      " #   Column               Non-Null Count  Dtype  \n",
      "---  ------               --------------  -----  \n",
      " 0   Company              10959 non-null  object \n",
      " 1   R&D_Spending_USD_Mn  10959 non-null  float64\n",
      " 2   AI_Revenue_USD_Mn    10959 non-null  float64\n",
      " 3   AI_Revenue_Growth_%  10959 non-null  float64\n",
      " 4   Event                233 non-null    object \n",
      " 5   Stock_Impact_%       10959 non-null  float64\n",
      "dtypes: float64(4), object(2)\n",
      "memory usage: 599.3+ KB\n"
     ]
    },
    {
     "data": {
      "text/html": [
       "<div>\n",
       "<style scoped>\n",
       "    .dataframe tbody tr th:only-of-type {\n",
       "        vertical-align: middle;\n",
       "    }\n",
       "\n",
       "    .dataframe tbody tr th {\n",
       "        vertical-align: top;\n",
       "    }\n",
       "\n",
       "    .dataframe thead th {\n",
       "        text-align: right;\n",
       "    }\n",
       "</style>\n",
       "<table border=\"1\" class=\"dataframe\">\n",
       "  <thead>\n",
       "    <tr style=\"text-align: right;\">\n",
       "      <th></th>\n",
       "      <th>mean</th>\n",
       "      <th>std</th>\n",
       "      <th>min</th>\n",
       "      <th>max</th>\n",
       "    </tr>\n",
       "  </thead>\n",
       "  <tbody>\n",
       "    <tr>\n",
       "      <th>R&amp;D_Spending_USD_Mn</th>\n",
       "      <td>65.184504</td>\n",
       "      <td>47.918247</td>\n",
       "      <td>1.57</td>\n",
       "      <td>163.83</td>\n",
       "    </tr>\n",
       "    <tr>\n",
       "      <th>AI_Revenue_USD_Mn</th>\n",
       "      <td>44.126571</td>\n",
       "      <td>41.639356</td>\n",
       "      <td>-0.55</td>\n",
       "      <td>155.96</td>\n",
       "    </tr>\n",
       "    <tr>\n",
       "      <th>AI_Revenue_Growth_%</th>\n",
       "      <td>159.395988</td>\n",
       "      <td>135.462185</td>\n",
       "      <td>-155.43</td>\n",
       "      <td>565.50</td>\n",
       "    </tr>\n",
       "    <tr>\n",
       "      <th>Stock_Impact_%</th>\n",
       "      <td>0.025560</td>\n",
       "      <td>0.749513</td>\n",
       "      <td>-3.00</td>\n",
       "      <td>18.50</td>\n",
       "    </tr>\n",
       "  </tbody>\n",
       "</table>\n",
       "</div>"
      ],
      "text/plain": [
       "                           mean         std     min     max\n",
       "R&D_Spending_USD_Mn   65.184504   47.918247    1.57  163.83\n",
       "AI_Revenue_USD_Mn     44.126571   41.639356   -0.55  155.96\n",
       "AI_Revenue_Growth_%  159.395988  135.462185 -155.43  565.50\n",
       "Stock_Impact_%         0.025560    0.749513   -3.00   18.50"
      ]
     },
     "execution_count": 28,
     "metadata": {},
     "output_type": "execute_result"
    }
   ],
   "source": [
    "# Cell 4 ── Quick sanity check\n",
    "df.info(),\n",
    "df.describe().T[[\"mean\",\"std\",\"min\",\"max\"]]"
   ]
  },
  {
   "cell_type": "markdown",
   "metadata": {},
   "source": [
    "## Feature Engineering\n",
    "\n",
    "This section focuses on creating new features from the existing data to improve the performance of our machine learning model."
   ]
  },
  {
   "cell_type": "code",
   "execution_count": 29,
   "id": "03839d16",
   "metadata": {},
   "outputs": [],
   "source": [
    "# Cell 5 ── Add derived metrics\n",
    "df[\"RD_to_AI_ratio\"] = df[\"R&D_Spending_USD_Mn\"] / df[\"AI_Revenue_USD_Mn\"].replace(0, np.nan)\n",
    "df[\"Month\"] = df.index.to_period(\"M\")\n",
    "monthly = df.groupby(\"Month\").agg({\n",
    "    \"R&D_Spending_USD_Mn\":\"mean\",\n",
    "    \"AI_Revenue_USD_Mn\":\"mean\",\n",
    "    \"AI_Revenue_Growth_%\":\"mean\",\n",
    "    \"Stock_Impact_%\":\"mean\"\n",
    "}).rename(columns=lambda x: x.replace(\"_Mn\",\"\"))"
   ]
  },
  {
   "cell_type": "code",
   "execution_count": 30,
   "id": "13edd42a",
   "metadata": {},
   "outputs": [
    {
     "data": {
      "image/png": "[encoded data removed]",
      "text/plain": [
       "<Figure size 1400x500 with 2 Axes>"
      ]
     },
     "metadata": {},
     "output_type": "display_data"
    }
   ],
   "source": [
    "# Cell 6 ── Visual: R&D vs AI Revenue over time\n",
    "fig, ax = plt.subplots()\n",
    "ax2 = ax.twinx()\n",
    "ax.plot(df.index, df[\"R&D_Spending_USD_Mn\"], color=\"tab:blue\", label=\"R&D ($M)\")\n",
    "ax2.plot(df.index, df[\"AI_Revenue_USD_Mn\"], color=\"tab:green\", label=\"AI Revenue ($M)\")\n",
    "ax.set_ylabel(\"R&D ($M)\", color=\"tab:blue\")\n",
    "ax2.set_ylabel(\"AI Revenue ($M)\", color=\"tab:green\")\n",
    "ax.set_title(\"Daily R&D vs AI Revenue (OpenAI 2015-2025)\")\n",
    "fig.legend(loc=\"upper left\")\n",
    "plt.show()"
   ]
  },
  {
   "cell_type": "code",
   "execution_count": 31,
   "id": "fd95c52f",
   "metadata": {},
   "outputs": [
    {
     "data": {
      "image/png": "[encoded data removed]",
      "text/plain": [
       "<Figure size 1200x800 with 2 Axes>"
      ]
     },
     "metadata": {},
     "output_type": "display_data"
    }
   ],
   "source": [
    "# Cell 7 ── Cleaner 12-month rolling heat-map\n",
    "# resample to yearly to reduce clutter\n",
    "yearly = df.groupby(df.index.year)[[\"R&D_Spending_USD_Mn\",\n",
    "                                    \"AI_Revenue_USD_Mn\",\n",
    "                                    \"AI_Revenue_Growth_%\",\n",
    "                                    \"Stock_Impact_%\"]].mean()\n",
    "\n",
    "plt.figure(figsize=(12,8))\n",
    "sns.heatmap(yearly.T,\n",
    "            annot=True,\n",
    "            fmt=\".1f\",\n",
    "            cmap=\"viridis\",\n",
    "            linewidths=.5,\n",
    "            cbar_kws={\"shrink\": .6})\n",
    "plt.title(\"Yearly Averages (Heat-map)\")\n",
    "plt.yticks(rotation=0)\n",
    "plt.tight_layout()\n",
    "plt.show()"
   ]
  },
  {
   "cell_type": "code",
   "execution_count": 32,
   "id": "649a4b4e",
   "metadata": {},
   "outputs": [
    {
     "data": {
      "application/vnd.plotly.v1+json": {
       "config": {
        "plotlyServerURL": "https://plot.ly"
       },
       "data": [
        {
         "customdata": [
          [
           "2015-01-06T00:00:00"
          ],
          [
           "2015-09-04T00:00:00"
          ],
          [
           "2016-01-27T00:00:00"
          ],
          [
           "2016-02-29T00:00:00"
          ],
          [
           "2016-07-23T00:00:00"
          ],
          [
           "2016-08-03T00:00:00"
          ],
          [
           "2016-09-25T00:00:00"
          ],
          [
           "2016-12-21T00:00:00"
          ],
          [
           "2017-12-19T00:00:00"
          ],
          [
           "2018-07-27T00:00:00"
          ],
          [
           "2019-10-22T00:00:00"
          ],
          [
           "2020-01-14T00:00:00"
          ],
          [
           "2020-02-23T00:00:00"
          ],
          [
           "2020-11-11T00:00:00"
          ],
          [
           "2020-11-26T00:00:00"
          ],
          [
           "2021-02-04T00:00:00"
          ],
          [
           "2021-07-11T00:00:00"
          ],
          [
           "2021-10-25T00:00:00"
          ],
          [
           "2022-03-02T00:00:00"
          ],
          [
           "2022-03-23T00:00:00"
          ],
          [
           "2022-06-02T00:00:00"
          ],
          [
           "2023-02-21T00:00:00"
          ],
          [
           "2023-03-29T00:00:00"
          ],
          [
           "2023-05-29T00:00:00"
          ],
          [
           "2023-08-01T00:00:00"
          ],
          [
           "2023-11-07T00:00:00"
          ],
          [
           "2024-03-27T00:00:00"
          ],
          [
           "2024-06-07T00:00:00"
          ],
          [
           "2024-08-07T00:00:00"
          ],
          [
           "2024-08-29T00:00:00"
          ],
          [
           "2024-10-07T00:00:00"
          ],
          [
           "2024-10-30T00:00:00"
          ]
         ],
         "hovertemplate": "Event=AI-powered search update<br>AI_Revenue_Growth_%=%{x}<br>Stock_Impact_%=%{y}<br>AI_Revenue_USD_Mn=%{marker.size}<br>Date=%{customdata[0]}<extra></extra>",
         "legendgroup": "AI-powered search update",
         "marker": {
          "color": "#636efa",
          "size": {
           "bdata": "XI/C9SgcPkCamZmZmZn1P1yPwvUoXOc/pHA9Ctej9D+4HoXrUfg3QGZmZmZm5jdA7FG4HoVrOEDsUbgehWs3QClcj8L1iEVACtejcD0K7z9mZmZmZiZPQMP1KFyPwkhA9ihcj8KVUkC4HoXrUbhSQEjhehSuRwdAzczMzMxMVkAK16NwPQoLQOF6FK5HgVZA9ihcj8LVUUCkcD0K16MMQClcj8L1KAxAKVyPwvUoDEAfhetRuBZgQOF6FK5HkVVAAAAAAAAYYECuR+F6FJ5VQHE9CtejYGNAZmZmZmZmE0ApXI/C9WBjQGZmZmZmtllAAAAAAABgY0AUrkfhehQVQA==",
           "dtype": "f8"
          },
          "sizemode": "area",
          "sizeref": 0.38832500000000003,
          "symbol": "circle"
         },
         "mode": "markers",
         "name": "AI-powered search update",
         "orientation": "v",
         "showlegend": true,
         "type": "scatter",
         "x": {
          "bdata": "CtejcD0K1z9xPQrXo5BBQHE9CtejsDrA7FG4HoWrPEAUrkfhetQzQMP1KFyPgjNAXI/C9SgcNkBcj8L1KBwxQArXo3A9ykVACtejcD0KBcCamZmZmelaQKRwPQrXc2JAUrgehet5YkB7FK5H4bJiQB+F61G47mdAexSuR+GqaECF61G4Hs1tQMP1KFyPAmlA7FG4HoULcECF61G4HhlwQAAAAAAAiG9AUrgehetxb0DNzMzMzJB0QD0K16NwtXRAexSuR+GSdEA9CtejcMV0QKRwPQrXC3pAzczMzMwIeEC4HoXrUQx6QKRwPQrX43lAexSuR+EKekAAAAAAALh6QA==",
          "dtype": "f8"
         },
         "xaxis": "x",
         "y": {
          "bdata": "CtejcD0K77+kcD0K16MAQFyPwvUoXAFApHA9CtejEkBSuB6F61EGwArXo3A9CvO/FK5H4XoU/r+PwvUoXI8GwKRwPQrXo/S/mpmZmZmZB8C4HoXrUbjmv9ejcD0K1wNA9ihcj8L1AkDNzMzMzMwCQOF6FK5H4QpAMzMzMzMzBcB7FK5H4XoGQClcj8L1KPA/4XoUrkfh8r/2KFyPwvUOQClcj8L1KAJAj8L1KFyP6j8pXI/C9SgTQOxRuB6F6w1AXI/C9ShcAUDXo3A9CtfTPzMzMzMzM9M/cT0K16Nw8b97FK5H4XqEP4/C9ShcjwRASOF6FK5H4b8pXI/C9SgEwA==",
          "dtype": "f8"
         },
         "yaxis": "y"
        },
        {
         "customdata": [
          [
           "2015-01-20T00:00:00"
          ],
          [
           "2015-02-17T00:00:00"
          ],
          [
           "2015-03-12T00:00:00"
          ],
          [
           "2015-05-31T00:00:00"
          ],
          [
           "2015-11-23T00:00:00"
          ],
          [
           "2016-02-16T00:00:00"
          ],
          [
           "2016-11-22T00:00:00"
          ],
          [
           "2017-03-11T00:00:00"
          ],
          [
           "2017-03-19T00:00:00"
          ],
          [
           "2017-05-11T00:00:00"
          ],
          [
           "2018-09-02T00:00:00"
          ],
          [
           "2018-09-22T00:00:00"
          ],
          [
           "2018-11-03T00:00:00"
          ],
          [
           "2018-12-16T00:00:00"
          ],
          [
           "2019-03-20T00:00:00"
          ],
          [
           "2019-07-16T00:00:00"
          ],
          [
           "2019-07-26T00:00:00"
          ],
          [
           "2019-09-21T00:00:00"
          ],
          [
           "2020-01-02T00:00:00"
          ],
          [
           "2020-01-25T00:00:00"
          ],
          [
           "2020-04-06T00:00:00"
          ],
          [
           "2021-01-18T00:00:00"
          ],
          [
           "2021-08-23T00:00:00"
          ],
          [
           "2022-06-04T00:00:00"
          ],
          [
           "2023-03-15T00:00:00"
          ],
          [
           "2023-10-29T00:00:00"
          ],
          [
           "2024-08-03T00:00:00"
          ]
         ],
         "hovertemplate": "Event=Cloud AI launch<br>AI_Revenue_Growth_%=%{x}<br>Stock_Impact_%=%{y}<br>AI_Revenue_USD_Mn=%{marker.size}<br>Date=%{customdata[0]}<extra></extra>",
         "legendgroup": "Cloud AI launch",
         "marker": {
          "color": "#EF553B",
          "size": {
           "bdata": "H4XrUbge7T+uR+F6FC4/QK5H4XoUbjRAzczMzMxMPUCuR+F6FK7zP6RwPQrXo/A/mpmZmZmZ4T8zMzMzMzM8QD0K16NwPfY/zczMzMzMRUBSuB6F6/FJQAAAAAAAAABAZmZmZmZm+j9mZmZmZmZBQD0K16NwPQRAmpmZmZnZREApXI/C9SgCQHE9CtejEEVAj8L1KFzPUkDNzMzMzIxIQIXrUbgelVJAexSuR+E6VkCuR+F6FK5NQBSuR+F6xFFAw/UoXI/CEUCamZmZmTlVQKRwPQrXw1lA",
           "dtype": "f8"
          },
          "sizemode": "area",
          "sizeref": 0.38832500000000003,
          "symbol": "circle"
         },
         "mode": "markers",
         "name": "Cloud AI launch",
         "orientation": "v",
         "showlegend": true,
         "type": "scatter",
         "x": {
          "bdata": "CtejcD2KIsBcj8L1KFwPQFyPwvUoXAFAj8L1KFyPAsD2KFyPwrU2QKRwPQrXoxFAj8L1KFxPRsA9CtejcH1EQJqZmZmZeUNA7FG4HoWrRkCuR+F6FD5SQIXrUbgeBVlAZmZmZmZGUEDhehSuR4FSQHsUrkfhEmNAAAAAAAAgW0CPwvUoXL9fQLgehetRqFtAUrgehevZYkBI4XoUri9iQHE9CtejeGJAzczMzMyMaEDhehSuR5loQMP1KFyP6m9AH4XrUbiCdUBI4XoUrkd0QM3MzMzM9HlA",
          "dtype": "f8"
         },
         "xaxis": "x",
         "y": {
          "bdata": "cT0K16NwA0CF61G4HoUSQFyPwvUoXO8/9ihcj8L1BsDXo3A9CtcNQNejcD0K1/c/9ihcj8L1/L9xPQrXo3DlPz0K16NwPQLAXI/C9ShcBcCF61G4HoX/P1yPwvUoXOe/w/UoXI/CE0BmZmZmZmYOQClcj8L1KALAAAAAAAAA0D+PwvUoXI/6v7gehetRuL6/rkfhehSuC0BxPQrXo3ATQDMzMzMzMwHAMzMzMzMz+78zMzMzMzMTQNejcD0K1w9AuB6F61G4DkAK16NwPQoLQMP1KFyPwv0/",
          "dtype": "f8"
         },
         "yaxis": "y"
        },
        {
         "customdata": [
          [
           "2015-03-19T00:00:00"
          ],
          [
           "2015-06-16T00:00:00"
          ],
          [
           "2016-06-19T00:00:00"
          ],
          [
           "2016-10-05T00:00:00"
          ],
          [
           "2016-10-24T00:00:00"
          ],
          [
           "2017-12-29T00:00:00"
          ],
          [
           "2018-03-16T00:00:00"
          ],
          [
           "2018-04-27T00:00:00"
          ],
          [
           "2018-08-02T00:00:00"
          ],
          [
           "2019-01-27T00:00:00"
          ],
          [
           "2019-05-08T00:00:00"
          ],
          [
           "2020-04-25T00:00:00"
          ],
          [
           "2020-08-21T00:00:00"
          ],
          [
           "2020-10-03T00:00:00"
          ],
          [
           "2020-11-02T00:00:00"
          ],
          [
           "2021-01-02T00:00:00"
          ],
          [
           "2021-06-01T00:00:00"
          ],
          [
           "2021-07-15T00:00:00"
          ],
          [
           "2021-08-28T00:00:00"
          ],
          [
           "2021-10-19T00:00:00"
          ],
          [
           "2022-04-12T00:00:00"
          ],
          [
           "2022-06-28T00:00:00"
          ],
          [
           "2023-07-19T00:00:00"
          ],
          [
           "2024-01-05T00:00:00"
          ],
          [
           "2024-07-09T00:00:00"
          ],
          [
           "2024-07-11T00:00:00"
          ],
          [
           "2024-10-08T00:00:00"
          ]
         ],
         "hovertemplate": "Event=AI ethics policy update<br>AI_Revenue_Growth_%=%{x}<br>Stock_Impact_%=%{y}<br>AI_Revenue_USD_Mn=%{marker.size}<br>Date=%{customdata[0]}<extra></extra>",
         "legendgroup": "AI ethics policy update",
         "marker": {
          "color": "#00cc96",
          "size": {
           "bdata": "9ihcj8L1+D/sUbgehevRP3E9CtejMEJA16NwPQpXOEBxPQrXo3D1PzMzMzMzE0ZAj8L1KFyP/j8pXI/C9Sj8PzMzMzMzk0lA4XoUrkfhBECuR+F6FK7/P4XrUbgepUhAzczMzMycUkBmZmZmZtZSQBSuR+F6pFJAUrgehetRTUA9CtejcD0KQMP1KFyP4k1AzczMzMysTUAfhetRuF5WQI/C9Shc/1FAPQrXo3D9WkCamZmZmZkSQFK4HoXrURZArkfhehSuWUB7FK5H4bpZQK5H4XoUrhZA",
           "dtype": "f8"
          },
          "sizemode": "area",
          "sizeref": 0.38832500000000003,
          "symbol": "circle"
         },
         "mode": "markers",
         "name": "AI ethics policy update",
         "orientation": "v",
         "showlegend": true,
         "type": "scatter",
         "x": {
          "bdata": "w/UoXI/iS0BSuB6F6xFSwIXrUbgeRTVA9ihcj8K1NUCamZmZmdlAQPYoXI/ClUdArkfhehSuVkCuR+F6FB5TQAAAAAAAoFFA16NwPQovZEAfhetRuJ5YQK5H4XoUTmJAzczMzMyEYkCF61G4HuViQMP1KFyPkmJAZmZmZmYmaEBSuB6F63lsQMP1KFyP2mhAj8L1KFyXaEC4HoXrUchoQDMzMzMzP3BAmpmZmZk9cEBxPQrXo9B2QLgehetRnHxA4XoUrkfZeUCamZmZmel5QClcj8L1MH1A",
          "dtype": "f8"
         },
         "xaxis": "x",
         "y": {
          "bdata": "ZmZmZmZmBkAAAAAAAADwv1K4HoXrUQBAzczMzMzM7D9SuB6F61HIv+xRuB6F6wtAuB6F61G4/j+amZmZmZkFwNejcD0K1/M/XI/C9Shc/z+4HoXrUbgOQJqZmZmZmQXA4XoUrkfhAsC4HoXrUbgEQLgehetRuBBArkfhehSuEkCuR+F6FK4RQMP1KFyPwuW/rkfhehSu87+PwvUoXI/2P6RwPQrXowbAhetRuB6FE0B7FK5H4XoOQAAAAAAAANC/FK5H4XoUCkDsUbgehesHwHE9CtejcN2/",
          "dtype": "f8"
         },
         "yaxis": "y"
        },
        {
         "customdata": [
          [
           "2015-04-12T00:00:00"
          ],
          [
           "2015-05-11T00:00:00"
          ],
          [
           "2015-06-10T00:00:00"
          ],
          [
           "2015-07-04T00:00:00"
          ],
          [
           "2015-11-04T00:00:00"
          ],
          [
           "2015-12-04T00:00:00"
          ],
          [
           "2016-02-05T00:00:00"
          ],
          [
           "2016-06-17T00:00:00"
          ],
          [
           "2016-12-08T00:00:00"
          ],
          [
           "2016-12-29T00:00:00"
          ],
          [
           "2017-02-02T00:00:00"
          ],
          [
           "2017-06-22T00:00:00"
          ],
          [
           "2017-10-09T00:00:00"
          ],
          [
           "2018-01-12T00:00:00"
          ],
          [
           "2018-02-08T00:00:00"
          ],
          [
           "2018-09-30T00:00:00"
          ],
          [
           "2019-01-16T00:00:00"
          ],
          [
           "2019-04-08T00:00:00"
          ],
          [
           "2019-10-14T00:00:00"
          ],
          [
           "2020-05-24T00:00:00"
          ],
          [
           "2020-06-07T00:00:00"
          ],
          [
           "2020-07-02T00:00:00"
          ],
          [
           "2020-10-02T00:00:00"
          ],
          [
           "2021-05-21T00:00:00"
          ],
          [
           "2021-06-16T00:00:00"
          ],
          [
           "2021-08-07T00:00:00"
          ],
          [
           "2021-12-25T00:00:00"
          ],
          [
           "2022-04-10T00:00:00"
          ],
          [
           "2023-04-07T00:00:00"
          ],
          [
           "2023-04-22T00:00:00"
          ],
          [
           "2024-04-28T00:00:00"
          ],
          [
           "2024-05-03T00:00:00"
          ],
          [
           "2024-05-05T00:00:00"
          ],
          [
           "2024-05-31T00:00:00"
          ],
          [
           "2024-10-31T00:00:00"
          ],
          [
           "2024-11-29T00:00:00"
          ],
          [
           "2024-12-04T00:00:00"
          ]
         ],
         "hovertemplate": "Event=AI speech recognition release<br>AI_Revenue_Growth_%=%{x}<br>Stock_Impact_%=%{y}<br>AI_Revenue_USD_Mn=%{marker.size}<br>Date=%{customdata[0]}<extra></extra>",
         "legendgroup": "AI speech recognition release",
         "marker": {
          "color": "#ab63fa",
          "size": {
           "bdata": "UrgehevRM0BxPQrXo/AzQFK4HoXrETVAmpmZmZkZNED2KFyPwrU9QBSuR+F6VD5AuB6F61E4OEDsUbgehSs4QDMzMzMzs0FAZmZmZmZm9j9xPQrXo5BFQIXrUbgeJUVAKVyPwvUo9D+PwvUoXI9JQOF6FK5HQUFASOF6FK5H+T8UrkfhevROQFK4HoXrUQRAAAAAAAAA/D9mZmZmZkZJQClcj8L1qFJAzczMzMysUkDXo3A9CndSQKRwPQrXowhAcT0K16MQTkAK16NwPVpWQPYoXI/C9U1ACtejcD0KEEApXI/C9SgTQMP1KFyPwglAUrgehevBWUBSuB6F61ETQK5H4XoUrhJAw/UoXI9qY0C4HoXrUbgWQPYoXI/CpVlAhetRuB71WUA=",
           "dtype": "f8"
          },
          "sizemode": "area",
          "sizeref": 0.38832500000000003,
          "symbol": "circle"
         },
         "mode": "markers",
         "name": "AI speech recognition release",
         "orientation": "v",
         "showlegend": true,
         "type": "scatter",
         "x": {
          "bdata": "H4XrUbge7b/sUbgehevRv1yPwvUoXBVAAAAAAAAA4D+4HoXrUbjuv5qZmZmZmfE/XI/C9SgcNUBcj8L1KNw0QAAAAAAAADJAH4XrUbj+Q0DhehSuR+FFQHsUrkfhekRA16NwPQrXOUAK16NwPZpRQBSuR+F6JFJAMzMzMzPzTEBI4XoUrpdaQJqZmZmZMWNA7FG4HoXbUkBxPQrXoxhjQJqZmZmZmWJAAAAAAACgYkBmZmZmZkZiQOF6FK5H+WlAXI/C9SgUaUDhehSuR8FoQHsUrkfh8mhAhetRuB7VckAK16NwPbZ3QKRwPQrXw2tACtejcD3yeUCPwvUoXOt3QEjhehSu93ZAuB6F61EcekBSuB6F6zl9QI/C9Shcz3lArkfhehQyekA=",
          "dtype": "f8"
         },
         "xaxis": "x",
         "y": {
          "bdata": "7FG4HoXrBUAUrkfhehQQQBSuR+F6FPK/XI/C9Shc7z9cj8L1KFwBwK5H4XoUrgHA9ihcj8L18L9mZmZmZmYAwJqZmZmZmem/SOF6FK5H9b+amZmZmZnpv9ejcD0K1/O/16NwPQrXA0ApXI/C9Sjsv4XrUbgehfO/CtejcD0K978AAAAAAAAEQBSuR+F6FPo/16NwPQrX0z+PwvUoXI/iP83MzMzMzOw/AAAAAAAA+D97FK5H4Xr8P0jhehSuRxNAcT0K16Nw7b9I4XoUrkf1v6RwPQrXo+A/AAAAAAAADEAAAAAAAAAOQGZmZmZmZtY/mpmZmZmZB0AfhetRuB4FQKRwPQrXowDArkfhehSu978AAAAAAADgv7gehetRuATAKVyPwvUoCkA=",
          "dtype": "f8"
         },
         "yaxis": "y"
        },
        {
         "customdata": [
          [
           "2015-05-27T00:00:00"
          ],
          [
           "2015-06-17T00:00:00"
          ],
          [
           "2015-08-19T00:00:00"
          ],
          [
           "2015-11-24T00:00:00"
          ],
          [
           "2016-01-18T00:00:00"
          ],
          [
           "2016-04-14T00:00:00"
          ],
          [
           "2016-05-11T00:00:00"
          ],
          [
           "2017-03-16T00:00:00"
          ],
          [
           "2017-03-26T00:00:00"
          ],
          [
           "2017-06-27T00:00:00"
          ],
          [
           "2017-06-29T00:00:00"
          ],
          [
           "2017-09-20T00:00:00"
          ],
          [
           "2017-12-24T00:00:00"
          ],
          [
           "2018-01-15T00:00:00"
          ],
          [
           "2018-02-11T00:00:00"
          ],
          [
           "2018-09-07T00:00:00"
          ],
          [
           "2018-11-12T00:00:00"
          ],
          [
           "2019-02-20T00:00:00"
          ],
          [
           "2019-05-12T00:00:00"
          ],
          [
           "2019-10-15T00:00:00"
          ],
          [
           "2020-01-01T00:00:00"
          ],
          [
           "2020-10-08T00:00:00"
          ],
          [
           "2020-10-29T00:00:00"
          ],
          [
           "2021-03-25T00:00:00"
          ],
          [
           "2021-06-16T00:00:00"
          ],
          [
           "2021-07-01T00:00:00"
          ],
          [
           "2021-09-09T00:00:00"
          ],
          [
           "2022-06-07T00:00:00"
          ],
          [
           "2023-02-17T00:00:00"
          ],
          [
           "2023-12-27T00:00:00"
          ],
          [
           "2024-08-23T00:00:00"
          ],
          [
           "2024-10-01T00:00:00"
          ]
         ],
         "hovertemplate": "Event=AI partnership deal<br>AI_Revenue_Growth_%=%{x}<br>Stock_Impact_%=%{y}<br>AI_Revenue_USD_Mn=%{marker.size}<br>Date=%{customdata[0]}<extra></extra>",
         "legendgroup": "AI partnership deal",
         "marker": {
          "color": "#FFA15A",
          "size": {
           "bdata": "9ihcj8I1PkBmZmZmZqYzQKRwPQrX4z5AZmZmZmZm8j8UrkfhepQ4QArXo3A9CkJAFK5H4XrUN0CPwvUoXC9FQArXo3A9KkZAXI/C9Shc8z+amZmZmZn9PwrXo3A9CvM/uB6F61EYRUBSuB6F61H0Px+F61G4vkFAPQrXo3BdSkCF61G4HsVJQLgehetRuE5AhetRuB5lT0D2KFyPwvVOQBSuR+F6tFJA16NwPQrXSEB7FK5H4bpIQOxRuB6F601AcT0K16NgVkC4HoXrUbhNQArXo3A9Ck5A9ihcj8IVUkAfhetRuC5gQNejcD0K1xFAj8L1KFxPY0A9CtejcD0XQA==",
           "dtype": "f8"
          },
          "sizemode": "area",
          "sizeref": 0.38832500000000003,
          "symbol": "circle"
         },
         "mode": "markers",
         "name": "AI partnership deal",
         "orientation": "v",
         "showlegend": true,
         "type": "scatter",
         "x": {
          "bdata": "FK5H4XoU5j8pXI/C9Sj8v9ejcD0K1wdA16NwPQrXLkApXI/C9eg2QEjhehSuRzRA7FG4HoUrM0Bcj8L1KJxEQAAAAAAA4EdACtejcD0KNUCuR+F6FF5VQNejcD0KVzNAcT0K16NQREA9CtejcP06QK5H4XoUXlNA4XoUrkfxUkDD9Shcj/JRQDMzMzMzM1pAw/UoXI9SW0AK16NwPZpaQIXrUbgerWJAPQrXo3CNYkBSuB6F62liQK5H4XoU5mhA7FG4HoXLaED2KFyPwqVoQIXrUbgeDWlA16NwPQpbcEBxPQrXo7h0QM3MzMzMnHVAH4XrUbjueUDD9Shcjw5+QA==",
          "dtype": "f8"
         },
         "xaxis": "x",
         "y": {
          "bdata": "rkfhehSu/797FK5H4Xr4P9ejcD0K1xNAKVyPwvUoAMAK16NwPQoFwFyPwvUoXAXAKVyPwvUovL+F61G4HoX/P5qZmZmZmQVAzczMzMzM5D/NzMzMzMz4PwrXo3A9CgtArkfhehSuEUBmZmZmZmb6Pylcj8L1KALASOF6FK5H4b8zMzMzMzPDP65H4XoUrgHAmpmZmZmZ9b/hehSuR+EAwHE9CtejcAfASOF6FK5HBUAK16NwPQoJQKRwPQrXowxAzczMzMzM+L97FK5H4Xr4P3E9CtejcANAj8L1KFyP0j9SuB6F61EKQArXo3A9CgVAH4XrUbgeB0AK16NwPQr7vw==",
          "dtype": "f8"
         },
         "yaxis": "y"
        },
        {
         "customdata": [
          [
           "2015-08-09T00:00:00"
          ],
          [
           "2016-01-16T00:00:00"
          ],
          [
           "2016-05-05T00:00:00"
          ],
          [
           "2016-05-23T00:00:00"
          ],
          [
           "2016-10-03T00:00:00"
          ],
          [
           "2016-10-16T00:00:00"
          ],
          [
           "2016-10-23T00:00:00"
          ],
          [
           "2016-12-31T00:00:00"
          ],
          [
           "2017-01-24T00:00:00"
          ],
          [
           "2017-08-03T00:00:00"
          ],
          [
           "2017-10-20T00:00:00"
          ],
          [
           "2018-04-29T00:00:00"
          ],
          [
           "2018-06-09T00:00:00"
          ],
          [
           "2018-12-02T00:00:00"
          ],
          [
           "2019-06-17T00:00:00"
          ],
          [
           "2019-10-06T00:00:00"
          ],
          [
           "2019-10-06T00:00:00"
          ],
          [
           "2020-03-12T00:00:00"
          ],
          [
           "2020-05-29T00:00:00"
          ],
          [
           "2021-02-17T00:00:00"
          ],
          [
           "2021-07-18T00:00:00"
          ],
          [
           "2022-03-12T00:00:00"
          ],
          [
           "2022-04-04T00:00:00"
          ],
          [
           "2023-02-19T00:00:00"
          ],
          [
           "2023-07-23T00:00:00"
          ],
          [
           "2024-01-12T00:00:00"
          ],
          [
           "2024-08-10T00:00:00"
          ],
          [
           "2024-08-12T00:00:00"
          ],
          [
           "2024-10-25T00:00:00"
          ]
         ],
         "hovertemplate": "Event=AI Video Recommendation upgrade<br>AI_Revenue_Growth_%=%{x}<br>Stock_Impact_%=%{y}<br>AI_Revenue_USD_Mn=%{marker.size}<br>Date=%{customdata[0]}<extra></extra>",
         "legendgroup": "AI Video Recommendation upgrade",
         "marker": {
          "color": "#19d3f3",
          "size": {
           "bdata": "MzMzMzPzM0CPwvUoXA9CQAAAAAAAwDhAw/UoXI/C8T9SuB6F61E4QI/C9ShcL0JAuB6F61G49j/NzMzMzGxCQFK4HoXrET1AMzMzMzNTRUB7FK5H4Xr0P4/C9Shcj0lACtejcD1KQUA9CtejcD32PwAAAAAA4E5AmpmZmZkZRUCamZmZmblOQLgehetR2EhAZmZmZmamUkCamZmZmZkFQPYoXI/CtU1A7FG4HoXrC0CkcD0K17NaQHsUrkfhehJAj8L1KFyPDkBSuB6F6xFaQKRwPQrXs1lAcT0K16MAWkBcj8L1KFwXQA==",
           "dtype": "f8"
          },
          "sizemode": "area",
          "sizeref": 0.38832500000000003,
          "symbol": "circle"
         },
         "mode": "markers",
         "name": "AI Video Recommendation upgrade",
         "orientation": "v",
         "showlegend": true,
         "type": "scatter",
         "x": {
          "bdata": "SOF6FK5H0b8pXI/C9Wg0QIXrUbgexTdA4XoUrkdhJkAUrkfhepQ1QD0K16NwPTVAzczMzMwMRUDXo3A9Ctc2QK5H4XoUrkZAMzMzMzMTRUApXI/C9ag7QArXo3A9mlFACtejcD06UkApXI/C9YhDQGZmZmZmdlpAcT0K16PAW0D2KFyPwjVaQK5H4XoUjmJAPQrXo3CVYkDXo3A9CkdlQKRwPQrXo2hAAAAAAAAQb0BxPQrXowBwQJqZmZmZpXZACtejcD2ecUAfhetRuFZ6QHE9Ctej4HlAcT0K16NAekBmZmZmZjp+QA==",
          "dtype": "f8"
         },
         "xaxis": "x",
         "y": {
          "bdata": "MzMzMzMzE0BI4XoUrkcDwB+F61G4HgFA16NwPQrX/z/D9Shcj8IDwK5H4XoUrv+/uB6F61G4rr+PwvUoXI/+P0jhehSuRwHAexSuR+F67L9SuB6F61HYv3sUrkfheoS/w/UoXI/CA8AUrkfhehTeP8P1KFyPwtW/w/UoXI/C/T8K16NwPQoFwIXrUbgehQlACtejcD0Kxz+PwvUoXI8EQHsUrkfheqQ/hetRuB6FAcBmZmZmZmYGwB+F61G4Hv0/FK5H4XoU+r8AAAAAAAAGwK5H4XoUrgtA16NwPQrX878AAAAAAADovw==",
          "dtype": "f8"
         },
         "yaxis": "y"
        },
        {
         "customdata": [
          [
           "2015-09-01T00:00:00"
          ],
          [
           "2015-09-27T00:00:00"
          ],
          [
           "2015-11-15T00:00:00"
          ],
          [
           "2016-02-20T00:00:00"
          ],
          [
           "2016-06-06T00:00:00"
          ],
          [
           "2016-08-16T00:00:00"
          ],
          [
           "2017-01-29T00:00:00"
          ],
          [
           "2017-02-25T00:00:00"
          ],
          [
           "2017-11-08T00:00:00"
          ],
          [
           "2017-11-26T00:00:00"
          ],
          [
           "2018-01-29T00:00:00"
          ],
          [
           "2018-11-03T00:00:00"
          ],
          [
           "2019-05-18T00:00:00"
          ],
          [
           "2019-12-15T00:00:00"
          ],
          [
           "2020-02-18T00:00:00"
          ],
          [
           "2020-07-24T00:00:00"
          ],
          [
           "2020-10-23T00:00:00"
          ],
          [
           "2021-01-10T00:00:00"
          ],
          [
           "2021-03-03T00:00:00"
          ],
          [
           "2021-10-16T00:00:00"
          ],
          [
           "2022-02-02T00:00:00"
          ],
          [
           "2022-08-13T00:00:00"
          ],
          [
           "2022-08-21T00:00:00"
          ],
          [
           "2022-10-14T00:00:00"
          ],
          [
           "2022-12-28T00:00:00"
          ],
          [
           "2023-08-18T00:00:00"
          ],
          [
           "2023-10-11T00:00:00"
          ],
          [
           "2024-03-04T00:00:00"
          ],
          [
           "2024-04-10T00:00:00"
          ],
          [
           "2024-06-03T00:00:00"
          ],
          [
           "2024-08-21T00:00:00"
          ],
          [
           "2024-11-21T00:00:00"
          ]
         ],
         "hovertemplate": "Event=AI Ads Optimization upgrade<br>AI_Revenue_Growth_%=%{x}<br>Stock_Impact_%=%{y}<br>AI_Revenue_USD_Mn=%{marker.size}<br>Date=%{customdata[0]}<extra></extra>",
         "legendgroup": "AI Ads Optimization upgrade",
         "marker": {
          "color": "#FF6692",
          "size": {
           "bdata": "mpmZmZkZNEAK16NwPUo0QBSuR+F6FOY/w/UoXI+CQUA9CtejcD04QDMzMzMzczhAAAAAAACgRUC4HoXrUXg8QDMzMzMzczxAPQrXo3A9+j+uR+F6FE5BQHE9CtejUEFAhetRuB7lTkB7FK5H4ZpPQAAAAAAAoFJAXI/C9SgcSUAK16NwPcpIQGZmZmZmZghAexSuR+FaVkA9CtejcD0GQBSuR+F69FFAPQrXo3DNWkBcj8L1KOxaQD0K16NwPQZAuB6F61G4CkAK16NwPQoPQM3MzMzMFGBAFK5H4XoUE0CamZmZmblZQKRwPQrXoxRAzczMzMzMFUCamZmZmelZQA==",
           "dtype": "f8"
          },
          "sizemode": "area",
          "sizeref": 0.38832500000000003,
          "symbol": "circle"
         },
         "mode": "markers",
         "name": "AI Ads Optimization upgrade",
         "orientation": "v",
         "showlegend": true,
         "type": "scatter",
         "x": {
          "bdata": "AAAAAAAA4D9cj8L1KFz3P2ZmZmZmZj/APQrXo3C9MEAzMzMzMzM1QMP1KFyPQjZA9ihcj8IVRkAK16NwPSpFQOF6FK5HIUVAXI/C9Sj8T0CkcD0K10NSQLgehetRSFJArkfhehR+WkA9CtejcK1bQArXo3A9imJAMzMzMzPjYkAUrkfhenxiQM3MzMzMpGlAUrgehevBaEApXI/C9UhmQD0K16NwMXBArkfhehQWcEDsUbgehS9wQKRwPQrXS2ZAFK5H4Xo8bUAfhetRuAZyQIXrUbgejXRAFK5H4XqId0Bcj8L1KOh5QJqZmZmZBXpAzczMzMzUe0AAAAAAACR6QA==",
          "dtype": "f8"
         },
         "xaxis": "x",
         "y": {
          "bdata": "uB6F61G4BMBSuB6F61EOQFyPwvUoXA9Aj8L1KFyP9j8fhetRuB7tv9ejcD0K19O/cT0K16NwBcAfhetRuB7Vv9ejcD0K1xBAhetRuB6FEkBI4XoUrkfRvylcj8L1KBJAmpmZmZmZCUAK16NwPQrHP3sUrkfhevC/9ihcj8L1CkCF61G4HoX/P4/C9Shcj/a/zczMzMzMAEDXo3A9CtcHwMP1KFyPwv0/exSuR+F67D+PwvUoXI8IQM3MzMzMzNw/7FG4HoXrB0BSuB6F61EEQFyPwvUoXAPAAAAAAAAACMCamZmZmZnpv4XrUbgehRFACtejcD0Kxz9SuB6F61HgPw==",
          "dtype": "f8"
         },
         "yaxis": "y"
        },
        {
         "customdata": [
          [
           "2015-11-09T00:00:00"
          ]
         ],
         "hovertemplate": "Event=TensorFlow open-source release<br>AI_Revenue_Growth_%=%{x}<br>Stock_Impact_%=%{y}<br>AI_Revenue_USD_Mn=%{marker.size}<br>Date=%{customdata[0]}<extra></extra>",
         "legendgroup": "TensorFlow open-source release",
         "marker": {
          "color": "#B6E880",
          "size": {
           "bdata": "16NwPQrXPUA=",
           "dtype": "f8"
          },
          "sizemode": "area",
          "sizeref": 0.38832500000000003,
          "symbol": "circle"
         },
         "mode": "markers",
         "name": "TensorFlow open-source release",
         "orientation": "v",
         "showlegend": true,
         "type": "scatter",
         "x": {
          "bdata": "9ihcj8L14L8=",
          "dtype": "f8"
         },
         "xaxis": "x",
         "y": {
          "bdata": "AAAAAAAAEkA=",
          "dtype": "f8"
         },
         "yaxis": "y"
        },
        {
         "customdata": [
          [
           "2016-03-15T00:00:00"
          ]
         ],
         "hovertemplate": "Event=AlphaGo beats Lee Sedol<br>AI_Revenue_Growth_%=%{x}<br>Stock_Impact_%=%{y}<br>AI_Revenue_USD_Mn=%{marker.size}<br>Date=%{customdata[0]}<extra></extra>",
         "legendgroup": "AlphaGo beats Lee Sedol",
         "marker": {
          "color": "#FF97FF",
          "size": {
           "bdata": "XI/C9SgcQkA=",
           "dtype": "f8"
          },
          "sizemode": "area",
          "sizeref": 0.38832500000000003,
          "symbol": "circle"
         },
         "mode": "markers",
         "name": "AlphaGo beats Lee Sedol",
         "orientation": "v",
         "showlegend": true,
         "type": "scatter",
         "x": {
          "bdata": "exSuR+G6NEA=",
          "dtype": "f8"
         },
         "xaxis": "x",
         "y": {
          "bdata": "zczMzMzMGEA=",
          "dtype": "f8"
         },
         "yaxis": "y"
        },
        {
         "customdata": [
          [
           "2018-06-11T00:00:00"
          ]
         ],
         "hovertemplate": "Event=GPT-1 release<br>AI_Revenue_Growth_%=%{x}<br>Stock_Impact_%=%{y}<br>AI_Revenue_USD_Mn=%{marker.size}<br>Date=%{customdata[0]}<extra></extra>",
         "legendgroup": "GPT-1 release",
         "marker": {
          "color": "#FECB52",
          "size": {
           "bdata": "16NwPQrX8z8=",
           "dtype": "f8"
          },
          "sizemode": "area",
          "sizeref": 0.38832500000000003,
          "symbol": "circle"
         },
         "mode": "markers",
         "name": "GPT-1 release",
         "orientation": "v",
         "showlegend": true,
         "type": "scatter",
         "x": {
          "bdata": "H4XrUbieN0A=",
          "dtype": "f8"
         },
         "xaxis": "x",
         "y": {
          "bdata": "AAAAAAAACEA=",
          "dtype": "f8"
         },
         "yaxis": "y"
        },
        {
         "customdata": [
          [
           "2019-02-14T00:00:00"
          ]
         ],
         "hovertemplate": "Event=GPT-2 release<br>AI_Revenue_Growth_%=%{x}<br>Stock_Impact_%=%{y}<br>AI_Revenue_USD_Mn=%{marker.size}<br>Date=%{customdata[0]}<extra></extra>",
         "legendgroup": "GPT-2 release",
         "marker": {
          "color": "#636efa",
          "size": {
           "bdata": "mpmZmZmZA0A=",
           "dtype": "f8"
          },
          "sizemode": "area",
          "sizeref": 0.38832500000000003,
          "symbol": "circle"
         },
         "mode": "markers",
         "name": "GPT-2 release",
         "orientation": "v",
         "showlegend": true,
         "type": "scatter",
         "x": {
          "bdata": "UrgehesZYkA=",
          "dtype": "f8"
         },
         "xaxis": "x",
         "y": {
          "bdata": "zczMzMzMEEA=",
          "dtype": "f8"
         },
         "yaxis": "y"
        },
        {
         "customdata": [
          [
           "2019-10-25T00:00:00"
          ]
         ],
         "hovertemplate": "Event=BERT for Search launch<br>AI_Revenue_Growth_%=%{x}<br>Stock_Impact_%=%{y}<br>AI_Revenue_USD_Mn=%{marker.size}<br>Date=%{customdata[0]}<extra></extra>",
         "legendgroup": "BERT for Search launch",
         "marker": {
          "color": "#EF553B",
          "size": {
           "bdata": "uB6F61EYT0A=",
           "dtype": "f8"
          },
          "sizemode": "area",
          "sizeref": 0.38832500000000003,
          "symbol": "circle"
         },
         "mode": "markers",
         "name": "BERT for Search launch",
         "orientation": "v",
         "showlegend": true,
         "type": "scatter",
         "x": {
          "bdata": "w/UoXI/SWkA=",
          "dtype": "f8"
         },
         "xaxis": "x",
         "y": {
          "bdata": "mpmZmZmZCUA=",
          "dtype": "f8"
         },
         "yaxis": "y"
        },
        {
         "customdata": [
          [
           "2020-06-11T00:00:00"
          ]
         ],
         "hovertemplate": "Event=GPT-3 release<br>AI_Revenue_Growth_%=%{x}<br>Stock_Impact_%=%{y}<br>AI_Revenue_USD_Mn=%{marker.size}<br>Date=%{customdata[0]}<extra></extra>",
         "legendgroup": "GPT-3 release",
         "marker": {
          "color": "#00cc96",
          "size": {
           "bdata": "9ihcj8L1BEA=",
           "dtype": "f8"
          },
          "sizemode": "area",
          "sizeref": 0.38832500000000003,
          "symbol": "circle"
         },
         "mode": "markers",
         "name": "GPT-3 release",
         "orientation": "v",
         "showlegend": true,
         "type": "scatter",
         "x": {
          "bdata": "UrgehesxZEA=",
          "dtype": "f8"
         },
         "xaxis": "x",
         "y": {
          "bdata": "AAAAAAAAIUA=",
          "dtype": "f8"
         },
         "yaxis": "y"
        },
        {
         "customdata": [
          [
           "2021-05-18T00:00:00"
          ]
         ],
         "hovertemplate": "Event=MUM Search Model launch<br>AI_Revenue_Growth_%=%{x}<br>Stock_Impact_%=%{y}<br>AI_Revenue_USD_Mn=%{marker.size}<br>Date=%{customdata[0]}<extra></extra>",
         "legendgroup": "MUM Search Model launch",
         "marker": {
          "color": "#ab63fa",
          "size": {
           "bdata": "16NwPQpnVkA=",
           "dtype": "f8"
          },
          "sizemode": "area",
          "sizeref": 0.38832500000000003,
          "symbol": "circle"
         },
         "mode": "markers",
         "name": "MUM Search Model launch",
         "orientation": "v",
         "showlegend": true,
         "type": "scatter",
         "x": {
          "bdata": "rkfhehTWaEA=",
          "dtype": "f8"
         },
         "xaxis": "x",
         "y": {
          "bdata": "ZmZmZmZmEEA=",
          "dtype": "f8"
         },
         "yaxis": "y"
        },
        {
         "customdata": [
          [
           "2021-08-10T00:00:00"
          ]
         ],
         "hovertemplate": "Event=Codex release<br>AI_Revenue_Growth_%=%{x}<br>Stock_Impact_%=%{y}<br>AI_Revenue_USD_Mn=%{marker.size}<br>Date=%{customdata[0]}<extra></extra>",
         "legendgroup": "Codex release",
         "marker": {
          "color": "#FFA15A",
          "size": {
           "bdata": "cT0K16NwA0A=",
           "dtype": "f8"
          },
          "sizemode": "area",
          "sizeref": 0.38832500000000003,
          "symbol": "circle"
         },
         "mode": "markers",
         "name": "Codex release",
         "orientation": "v",
         "showlegend": true,
         "type": "scatter",
         "x": {
          "bdata": "uB6F61HYYUA=",
          "dtype": "f8"
         },
         "xaxis": "x",
         "y": {
          "bdata": "zczMzMzMHEA=",
          "dtype": "f8"
         },
         "yaxis": "y"
        },
        {
         "customdata": [
          [
           "2022-04-06T00:00:00"
          ]
         ],
         "hovertemplate": "Event=DALL·E 2 release<br>AI_Revenue_Growth_%=%{x}<br>Stock_Impact_%=%{y}<br>AI_Revenue_USD_Mn=%{marker.size}<br>Date=%{customdata[0]}<extra></extra>",
         "legendgroup": "DALL·E 2 release",
         "marker": {
          "color": "#19d3f3",
          "size": {
           "bdata": "16NwPQrXC0A=",
           "dtype": "f8"
          },
          "sizemode": "area",
          "sizeref": 0.38832500000000003,
          "symbol": "circle"
         },
         "mode": "markers",
         "name": "DALL·E 2 release",
         "orientation": "v",
         "showlegend": true,
         "type": "scatter",
         "x": {
          "bdata": "9ihcj8L9bkA=",
          "dtype": "f8"
         },
         "xaxis": "x",
         "y": {
          "bdata": "mpmZmZmZI0A=",
          "dtype": "f8"
         },
         "yaxis": "y"
        },
        {
         "customdata": [
          [
           "2022-11-30T00:00:00"
          ]
         ],
         "hovertemplate": "Event=ChatGPT (GPT-3.5) launch<br>AI_Revenue_Growth_%=%{x}<br>Stock_Impact_%=%{y}<br>AI_Revenue_USD_Mn=%{marker.size}<br>Date=%{customdata[0]}<extra></extra>",
         "legendgroup": "ChatGPT (GPT-3.5) launch",
         "marker": {
          "color": "#FF6692",
          "size": {
           "bdata": "cT0K16NwCUA=",
           "dtype": "f8"
          },
          "sizemode": "area",
          "sizeref": 0.38832500000000003,
          "symbol": "circle"
         },
         "mode": "markers",
         "name": "ChatGPT (GPT-3.5) launch",
         "orientation": "v",
         "showlegend": true,
         "type": "scatter",
         "x": {
          "bdata": "16NwPQo3a0A=",
          "dtype": "f8"
         },
         "xaxis": "x",
         "y": {
          "bdata": "AAAAAAAAKEA=",
          "dtype": "f8"
         },
         "yaxis": "y"
        },
        {
         "customdata": [
          [
           "2023-02-24T00:00:00"
          ]
         ],
         "hovertemplate": "Event=LLaMA 1 release<br>AI_Revenue_Growth_%=%{x}<br>Stock_Impact_%=%{y}<br>AI_Revenue_USD_Mn=%{marker.size}<br>Date=%{customdata[0]}<extra></extra>",
         "legendgroup": "LLaMA 1 release",
         "marker": {
          "color": "#B6E880",
          "size": {
           "bdata": "H4XrUbi+VUA=",
           "dtype": "f8"
          },
          "sizemode": "area",
          "sizeref": 0.38832500000000003,
          "symbol": "circle"
         },
         "mode": "markers",
         "name": "LLaMA 1 release",
         "orientation": "v",
         "showlegend": true,
         "type": "scatter",
         "x": {
          "bdata": "CtejcD3udEA=",
          "dtype": "f8"
         },
         "xaxis": "x",
         "y": {
          "bdata": "ZmZmZmZmGEA=",
          "dtype": "f8"
         },
         "yaxis": "y"
        },
        {
         "customdata": [
          [
           "2023-03-14T00:00:00"
          ]
         ],
         "hovertemplate": "Event=GPT-4 release<br>AI_Revenue_Growth_%=%{x}<br>Stock_Impact_%=%{y}<br>AI_Revenue_USD_Mn=%{marker.size}<br>Date=%{customdata[0]}<extra></extra>",
         "legendgroup": "GPT-4 release",
         "marker": {
          "color": "#FF97FF",
          "size": {
           "bdata": "MzMzMzMzEEA=",
           "dtype": "f8"
          },
          "sizemode": "area",
          "sizeref": 0.38832500000000003,
          "symbol": "circle"
         },
         "mode": "markers",
         "name": "GPT-4 release",
         "orientation": "v",
         "showlegend": true,
         "type": "scatter",
         "x": {
          "bdata": "hetRuB4Jc0A=",
          "dtype": "f8"
         },
         "xaxis": "x",
         "y": {
          "bdata": "ZmZmZmZmLkA=",
          "dtype": "f8"
         },
         "yaxis": "y"
        },
        {
         "customdata": [
          [
           "2023-03-21T00:00:00"
          ]
         ],
         "hovertemplate": "Event=Bard chatbot launch<br>AI_Revenue_Growth_%=%{x}<br>Stock_Impact_%=%{y}<br>AI_Revenue_USD_Mn=%{marker.size}<br>Date=%{customdata[0]}<extra></extra>",
         "legendgroup": "Bard chatbot launch",
         "marker": {
          "color": "#FECB52",
          "size": {
           "bdata": "uB6F61E4YEA=",
           "dtype": "f8"
          },
          "sizemode": "area",
          "sizeref": 0.38832500000000003,
          "symbol": "circle"
         },
         "mode": "markers",
         "name": "Bard chatbot launch",
         "orientation": "v",
         "showlegend": true,
         "type": "scatter",
         "x": {
          "bdata": "FK5H4XrIdEA=",
          "dtype": "f8"
         },
         "xaxis": "x",
         "y": {
          "bdata": "AAAAAAAAFEA=",
          "dtype": "f8"
         },
         "yaxis": "y"
        },
        {
         "customdata": [
          [
           "2023-07-18T00:00:00"
          ]
         ],
         "hovertemplate": "Event=LLaMA 2 release<br>AI_Revenue_Growth_%=%{x}<br>Stock_Impact_%=%{y}<br>AI_Revenue_USD_Mn=%{marker.size}<br>Date=%{customdata[0]}<extra></extra>",
         "legendgroup": "LLaMA 2 release",
         "marker": {
          "color": "#636efa",
          "size": {
           "bdata": "exSuR+FqVUA=",
           "dtype": "f8"
          },
          "sizemode": "area",
          "sizeref": 0.38832500000000003,
          "symbol": "circle"
         },
         "mode": "markers",
         "name": "LLaMA 2 release",
         "orientation": "v",
         "showlegend": true,
         "type": "scatter",
         "x": {
          "bdata": "UrgeheuFdEA=",
          "dtype": "f8"
         },
         "xaxis": "x",
         "y": {
          "bdata": "MzMzMzMzG0A=",
          "dtype": "f8"
         },
         "yaxis": "y"
        },
        {
         "customdata": [
          [
           "2023-12-06T00:00:00"
          ]
         ],
         "hovertemplate": "Event=Gemini AI release<br>AI_Revenue_Growth_%=%{x}<br>Stock_Impact_%=%{y}<br>AI_Revenue_USD_Mn=%{marker.size}<br>Date=%{customdata[0]}<extra></extra>",
         "legendgroup": "Gemini AI release",
         "marker": {
          "color": "#EF553B",
          "size": {
           "bdata": "PQrXo3AlYEA=",
           "dtype": "f8"
          },
          "sizemode": "area",
          "sizeref": 0.38832500000000003,
          "symbol": "circle"
         },
         "mode": "markers",
         "name": "Gemini AI release",
         "orientation": "v",
         "showlegend": true,
         "type": "scatter",
         "x": {
          "bdata": "zczMzMyodEA=",
          "dtype": "f8"
         },
         "xaxis": "x",
         "y": {
          "bdata": "MzMzMzMzF0A=",
          "dtype": "f8"
         },
         "yaxis": "y"
        },
        {
         "customdata": [
          [
           "2024-05-01T00:00:00"
          ]
         ],
         "hovertemplate": "Event=GPT-5 release (predicted)<br>AI_Revenue_Growth_%=%{x}<br>Stock_Impact_%=%{y}<br>AI_Revenue_USD_Mn=%{marker.size}<br>Date=%{customdata[0]}<extra></extra>",
         "legendgroup": "GPT-5 release (predicted)",
         "marker": {
          "color": "#00cc96",
          "size": {
           "bdata": "XI/C9ShcFUA=",
           "dtype": "f8"
          },
          "sizemode": "area",
          "sizeref": 0.38832500000000003,
          "symbol": "circle"
         },
         "mode": "markers",
         "name": "GPT-5 release (predicted)",
         "orientation": "v",
         "showlegend": true,
         "type": "scatter",
         "x": {
          "bdata": "uB6F61Eke0A=",
          "dtype": "f8"
         },
         "xaxis": "x",
         "y": {
          "bdata": "AAAAAACAMkA=",
          "dtype": "f8"
         },
         "yaxis": "y"
        },
        {
         "customdata": [
          [
           "2024-05-18T00:00:00"
          ]
         ],
         "hovertemplate": "Event=LLaMA 3 release (predicted)<br>AI_Revenue_Growth_%=%{x}<br>Stock_Impact_%=%{y}<br>AI_Revenue_USD_Mn=%{marker.size}<br>Date=%{customdata[0]}<extra></extra>",
         "legendgroup": "LLaMA 3 release (predicted)",
         "marker": {
          "color": "#ab63fa",
          "size": {
           "bdata": "MzMzMzPDWUA=",
           "dtype": "f8"
          },
          "sizemode": "area",
          "sizeref": 0.38832500000000003,
          "symbol": "circle"
         },
         "mode": "markers",
         "name": "LLaMA 3 release (predicted)",
         "orientation": "v",
         "showlegend": true,
         "type": "scatter",
         "x": {
          "bdata": "SOF6FK7zeUA=",
          "dtype": "f8"
         },
         "xaxis": "x",
         "y": {
          "bdata": "mpmZmZmZHUA=",
          "dtype": "f8"
         },
         "yaxis": "y"
        }
       ],
       "layout": {
        "legend": {
         "itemsizing": "constant",
         "title": {
          "text": "Event"
         },
         "tracegroupgap": 0
        },
        "template": {
         "data": {
          "bar": [
           {
            "error_x": {
             "color": "#2a3f5f"
            },
            "error_y": {
             "color": "#2a3f5f"
            },
            "marker": {
             "line": {
              "color": "#E5ECF6",
              "width": 0.5
             },
             "pattern": {
              "fillmode": "overlay",
              "size": 10,
              "solidity": 0.2
             }
            },
            "type": "bar"
           }
          ],
          "barpolar": [
           {
            "marker": {
             "line": {
              "color": "#E5ECF6",
              "width": 0.5
             },
             "pattern": {
              "fillmode": "overlay",
              "size": 10,
              "solidity": 0.2
             }
            },
            "type": "barpolar"
           }
          ],
          "carpet": [
           {
            "aaxis": {
             "endlinecolor": "#2a3f5f",
             "gridcolor": "white",
             "linecolor": "white",
             "minorgridcolor": "white",
             "startlinecolor": "#2a3f5f"
            },
            "baxis": {
             "endlinecolor": "#2a3f5f",
             "gridcolor": "white",
             "linecolor": "white",
             "minorgridcolor": "white",
             "startlinecolor": "#2a3f5f"
            },
            "type": "carpet"
           }
          ],
          "choropleth": [
           {
            "colorbar": {
             "outlinewidth": 0,
             "ticks": ""
            },
            "type": "choropleth"
           }
          ],
          "contour": [
           {
            "colorbar": {
             "outlinewidth": 0,
             "ticks": ""
            },
            "colorscale": [
             [
              0,
              "#0d0887"
             ],
             [
              0.1111111111111111,
              "#46039f"
             ],
             [
              0.2222222222222222,
              "#7201a8"
             ],
             [
              0.3333333333333333,
              "#9c179e"
             ],
             [
              0.4444444444444444,
              "#bd3786"
             ],
             [
              0.5555555555555556,
              "#d8576b"
             ],
             [
              0.6666666666666666,
              "#ed7953"
             ],
             [
              0.7777777777777778,
              "#fb9f3a"
             ],
             [
              0.8888888888888888,
              "#fdca26"
             ],
             [
              1,
              "#f0f921"
             ]
            ],
            "type": "contour"
           }
          ],
          "contourcarpet": [
           {
            "colorbar": {
             "outlinewidth": 0,
             "ticks": ""
            },
            "type": "contourcarpet"
           }
          ],
          "heatmap": [
           {
            "colorbar": {
             "outlinewidth": 0,
             "ticks": ""
            },
            "colorscale": [
             [
              0,
              "#0d0887"
             ],
             [
              0.1111111111111111,
              "#46039f"
             ],
             [
              0.2222222222222222,
              "#7201a8"
             ],
             [
              0.3333333333333333,
              "#9c179e"
             ],
             [
              0.4444444444444444,
              "#bd3786"
             ],
             [
              0.5555555555555556,
              "#d8576b"
             ],
             [
              0.6666666666666666,
              "#ed7953"
             ],
             [
              0.7777777777777778,
              "#fb9f3a"
             ],
             [
              0.8888888888888888,
              "#fdca26"
             ],
             [
              1,
              "#f0f921"
             ]
            ],
            "type": "heatmap"
           }
          ],
          "histogram": [
           {
            "marker": {
             "pattern": {
              "fillmode": "overlay",
              "size": 10,
              "solidity": 0.2
             }
            },
            "type": "histogram"
           }
          ],
          "histogram2d": [
           {
            "colorbar": {
             "outlinewidth": 0,
             "ticks": ""
            },
            "colorscale": [
             [
              0,
              "#0d0887"
             ],
             [
              0.1111111111111111,
              "#46039f"
             ],
             [
              0.2222222222222222,
              "#7201a8"
             ],
             [
              0.3333333333333333,
              "#9c179e"
             ],
             [
              0.4444444444444444,
              "#bd3786"
             ],
             [
              0.5555555555555556,
              "#d8576b"
             ],
             [
              0.6666666666666666,
              "#ed7953"
             ],
             [
              0.7777777777777778,
              "#fb9f3a"
             ],
             [
              0.8888888888888888,
              "#fdca26"
             ],
             [
              1,
              "#f0f921"
             ]
            ],
            "type": "histogram2d"
           }
          ],
          "histogram2dcontour": [
           {
            "colorbar": {
             "outlinewidth": 0,
             "ticks": ""
            },
            "colorscale": [
             [
              0,
              "#0d0887"
             ],
             [
              0.1111111111111111,
              "#46039f"
             ],
             [
              0.2222222222222222,
              "#7201a8"
             ],
             [
              0.3333333333333333,
              "#9c179e"
             ],
             [
              0.4444444444444444,
              "#bd3786"
             ],
             [
              0.5555555555555556,
              "#d8576b"
             ],
             [
              0.6666666666666666,
              "#ed7953"
             ],
             [
              0.7777777777777778,
              "#fb9f3a"
             ],
             [
              0.8888888888888888,
              "#fdca26"
             ],
             [
              1,
              "#f0f921"
             ]
            ],
            "type": "histogram2dcontour"
           }
          ],
          "mesh3d": [
           {
            "colorbar": {
             "outlinewidth": 0,
             "ticks": ""
            },
            "type": "mesh3d"
           }
          ],
          "parcoords": [
           {
            "line": {
             "colorbar": {
              "outlinewidth": 0,
              "ticks": ""
             }
            },
            "type": "parcoords"
           }
          ],
          "pie": [
           {
            "automargin": true,
            "type": "pie"
           }
          ],
          "scatter": [
           {
            "fillpattern": {
             "fillmode": "overlay",
             "size": 10,
             "solidity": 0.2
            },
            "type": "scatter"
           }
          ],
          "scatter3d": [
           {
            "line": {
             "colorbar": {
              "outlinewidth": 0,
              "ticks": ""
             }
            },
            "marker": {
             "colorbar": {
              "outlinewidth": 0,
              "ticks": ""
             }
            },
            "type": "scatter3d"
           }
          ],
          "scattercarpet": [
           {
            "marker": {
             "colorbar": {
              "outlinewidth": 0,
              "ticks": ""
             }
            },
            "type": "scattercarpet"
           }
          ],
          "scattergeo": [
           {
            "marker": {
             "colorbar": {
              "outlinewidth": 0,
              "ticks": ""
             }
            },
            "type": "scattergeo"
           }
          ],
          "scattergl": [
           {
            "marker": {
             "colorbar": {
              "outlinewidth": 0,
              "ticks": ""
             }
            },
            "type": "scattergl"
           }
          ],
          "scattermap": [
           {
            "marker": {
             "colorbar": {
              "outlinewidth": 0,
              "ticks": ""
             }
            },
            "type": "scattermap"
           }
          ],
          "scattermapbox": [
           {
            "marker": {
             "colorbar": {
              "outlinewidth": 0,
              "ticks": ""
             }
            },
            "type": "scattermapbox"
           }
          ],
          "scatterpolar": [
           {
            "marker": {
             "colorbar": {
              "outlinewidth": 0,
              "ticks": ""
             }
            },
            "type": "scatterpolar"
           }
          ],
          "scatterpolargl": [
           {
            "marker": {
             "colorbar": {
              "outlinewidth": 0,
              "ticks": ""
             }
            },
            "type": "scatterpolargl"
           }
          ],
          "scatterternary": [
           {
            "marker": {
             "colorbar": {
              "outlinewidth": 0,
              "ticks": ""
             }
            },
            "type": "scatterternary"
           }
          ],
          "surface": [
           {
            "colorbar": {
             "outlinewidth": 0,
             "ticks": ""
            },
            "colorscale": [
             [
              0,
              "#0d0887"
             ],
             [
              0.1111111111111111,
              "#46039f"
             ],
             [
              0.2222222222222222,
              "#7201a8"
             ],
             [
              0.3333333333333333,
              "#9c179e"
             ],
             [
              0.4444444444444444,
              "#bd3786"
             ],
             [
              0.5555555555555556,
              "#d8576b"
             ],
             [
              0.6666666666666666,
              "#ed7953"
             ],
             [
              0.7777777777777778,
              "#fb9f3a"
             ],
             [
              0.8888888888888888,
              "#fdca26"
             ],
             [
              1,
              "#f0f921"
             ]
            ],
            "type": "surface"
           }
          ],
          "table": [
           {
            "cells": {
             "fill": {
              "color": "#EBF0F8"
             },
             "line": {
              "color": "white"
             }
            },
            "header": {
             "fill": {
              "color": "#C8D4E3"
             },
             "line": {
              "color": "white"
             }
            },
            "type": "table"
           }
          ]
         },
         "layout": {
          "annotationdefaults": {
           "arrowcolor": "#2a3f5f",
           "arrowhead": 0,
           "arrowwidth": 1
          },
          "autotypenumbers": "strict",
          "coloraxis": {
           "colorbar": {
            "outlinewidth": 0,
            "ticks": ""
           }
          },
          "colorscale": {
           "diverging": [
            [
             0,
             "#8e0152"
            ],
            [
             0.1,
             "#c51b7d"
            ],
            [
             0.2,
             "#de77ae"
            ],
            [
             0.3,
             "#f1b6da"
            ],
            [
             0.4,
             "#fde0ef"
            ],
            [
             0.5,
             "#f7f7f7"
            ],
            [
             0.6,
             "#e6f5d0"
            ],
            [
             0.7,
             "#b8e186"
            ],
            [
             0.8,
             "#7fbc41"
            ],
            [
             0.9,
             "#4d9221"
            ],
            [
             1,
             "#276419"
            ]
           ],
           "sequential": [
            [
             0,
             "#0d0887"
            ],
            [
             0.1111111111111111,
             "#46039f"
            ],
            [
             0.2222222222222222,
             "#7201a8"
            ],
            [
             0.3333333333333333,
             "#9c179e"
            ],
            [
             0.4444444444444444,
             "#bd3786"
            ],
            [
             0.5555555555555556,
             "#d8576b"
            ],
            [
             0.6666666666666666,
             "#ed7953"
            ],
            [
             0.7777777777777778,
             "#fb9f3a"
            ],
            [
             0.8888888888888888,
             "#fdca26"
            ],
            [
             1,
             "#f0f921"
            ]
           ],
           "sequentialminus": [
            [
             0,
             "#0d0887"
            ],
            [
             0.1111111111111111,
             "#46039f"
            ],
            [
             0.2222222222222222,
             "#7201a8"
            ],
            [
             0.3333333333333333,
             "#9c179e"
            ],
            [
             0.4444444444444444,
             "#bd3786"
            ],
            [
             0.5555555555555556,
             "#d8576b"
            ],
            [
             0.6666666666666666,
             "#ed7953"
            ],
            [
             0.7777777777777778,
             "#fb9f3a"
            ],
            [
             0.8888888888888888,
             "#fdca26"
            ],
            [
             1,
             "#f0f921"
            ]
           ]
          },
          "colorway": [
           "#636efa",
           "#EF553B",
           "#00cc96",
           "#ab63fa",
           "#FFA15A",
           "#19d3f3",
           "#FF6692",
           "#B6E880",
           "#FF97FF",
           "#FECB52"
          ],
          "font": {
           "color": "#2a3f5f"
          },
          "geo": {
           "bgcolor": "white",
           "lakecolor": "white",
           "landcolor": "#E5ECF6",
           "showlakes": true,
           "showland": true,
           "subunitcolor": "white"
          },
          "hoverlabel": {
           "align": "left"
          },
          "hovermode": "closest",
          "mapbox": {
           "style": "light"
          },
          "paper_bgcolor": "white",
          "plot_bgcolor": "#E5ECF6",
          "polar": {
           "angularaxis": {
            "gridcolor": "white",
            "linecolor": "white",
            "ticks": ""
           },
           "bgcolor": "#E5ECF6",
           "radialaxis": {
            "gridcolor": "white",
            "linecolor": "white",
            "ticks": ""
           }
          },
          "scene": {
           "xaxis": {
            "backgroundcolor": "#E5ECF6",
            "gridcolor": "white",
            "gridwidth": 2,
            "linecolor": "white",
            "showbackground": true,
            "ticks": "",
            "zerolinecolor": "white"
           },
           "yaxis": {
            "backgroundcolor": "#E5ECF6",
            "gridcolor": "white",
            "gridwidth": 2,
            "linecolor": "white",
            "showbackground": true,
            "ticks": "",
            "zerolinecolor": "white"
           },
           "zaxis": {
            "backgroundcolor": "#E5ECF6",
            "gridcolor": "white",
            "gridwidth": 2,
            "linecolor": "white",
            "showbackground": true,
            "ticks": "",
            "zerolinecolor": "white"
           }
          },
          "shapedefaults": {
           "line": {
            "color": "#2a3f5f"
           }
          },
          "ternary": {
           "aaxis": {
            "gridcolor": "white",
            "linecolor": "white",
            "ticks": ""
           },
           "baxis": {
            "gridcolor": "white",
            "linecolor": "white",
            "ticks": ""
           },
           "bgcolor": "#E5ECF6",
           "caxis": {
            "gridcolor": "white",
            "linecolor": "white",
            "ticks": ""
           }
          },
          "title": {
           "x": 0.05
          },
          "xaxis": {
           "automargin": true,
           "gridcolor": "white",
           "linecolor": "white",
           "ticks": "",
           "title": {
            "standoff": 15
           },
           "zerolinecolor": "white",
           "zerolinewidth": 2
          },
          "yaxis": {
           "automargin": true,
           "gridcolor": "white",
           "linecolor": "white",
           "ticks": "",
           "title": {
            "standoff": 15
           },
           "zerolinecolor": "white",
           "zerolinewidth": 2
          }
         }
        },
        "title": {
         "text": "Stock Impact vs Revenue Growth on Major Events"
        },
        "xaxis": {
         "anchor": "y",
         "domain": [
          0,
          1
         ],
         "title": {
          "text": "AI_Revenue_Growth_%"
         }
        },
        "yaxis": {
         "anchor": "x",
         "domain": [
          0,
          1
         ],
         "title": {
          "text": "Stock_Impact_%"
         }
        }
       }
      }
     },
     "metadata": {},
     "output_type": "display_data"
    }
   ],
   "source": [
    "# Cell 8 ── Events & stock impact  (FIXED)\n",
    "events = df[df[\"Event\"].notna()].reset_index()   # bring Date back as a column\n",
    "fig = px.scatter(events, x=\"AI_Revenue_Growth_%\", y=\"Stock_Impact_%\",\n",
    "                 color=\"Event\", hover_data=[\"Date\"], size=\"AI_Revenue_USD_Mn\",\n",
    "                 title=\"Stock Impact vs Revenue Growth on Major Events\")\n",
    "fig.show()"
   ]
  },
  {
   "cell_type": "code",
   "execution_count": 33,
   "id": "2d381174",
   "metadata": {},
   "outputs": [
    {
     "data": {
      "image/png": "[encoded data removed]",
      "text/plain": [
       "<Figure size 1400x500 with 1 Axes>"
      ]
     },
     "metadata": {},
     "output_type": "display_data"
    }
   ],
   "source": [
    "# Cell 9 ── Growth trend with 30-day rolling mean\n",
    "df[\"AI_Revenue_Growth_30d\"] = df[\"AI_Revenue_Growth_%\"].rolling(30).mean()\n",
    "plt.figure()\n",
    "plt.plot(df.index, df[\"AI_Revenue_Growth_%\"], alpha=.3, label=\"Daily\")\n",
    "plt.plot(df.index, df[\"AI_Revenue_Growth_30d\"], color=\"red\", label=\"30-day MA\")\n",
    "plt.title(\"AI Revenue Growth % (Daily vs 30-day MA)\")\n",
    "plt.legend(); plt.show()"
   ]
  },
  {
   "cell_type": "markdown",
   "metadata": {},
   "source": [
    "## Model Training\n",
    "\n",
    "Here, we train a machine learning model on the prepared data. We will use a Prophet model for time series forecasting."
   ]
  },
  {
   "cell_type": "markdown",
   "metadata": {},
   "source": [
    "## Forecasting\n",
    "\n",
    "In this section, we use the trained model to make predictions on future data points."
   ]
  },
  {
   "cell_type": "code",
   "execution_count": 35,
   "id": "25ac1962",
   "metadata": {},
   "outputs": [
    {
     "name": "stderr",
     "output_type": "stream",
     "text": [
      "/tmp/ipykernel_142719/2118589447.py:6: FutureWarning:\n",
      "\n",
      "'M' is deprecated and will be removed in a future version, please use 'ME' instead.\n",
      "\n",
      "DEBUG\tTask(Task-3) cmdstanpy:filesystem.py:_temp_single_json()- input tempfile: /tmp/tmpxn7broii/dcjfroq_.json\n",
      "DEBUG\tTask(Task-3) cmdstanpy:filesystem.py:_temp_single_json()- input tempfile: /tmp/tmpxn7broii/o8cg0mbp.json\n",
      "DEBUG\tTask(Task-3) cmdstanpy:model.py:_run_cmdstan()- idx 0\n",
      "DEBUG\tTask(Task-3) cmdstanpy:model.py:_run_cmdstan()- running CmdStan, num_threads: None\n",
      "DEBUG\tTask(Task-3) cmdstanpy:model.py:_run_cmdstan()- CmdStan args: ['/home/ayyan/jupyter_venv/jupyter_venv/lib/python3.13/site-packages/prophet/stan_model/prophet_model.bin', 'random', 'seed=26010', 'data', 'file=/tmp/tmpxn7broii/dcjfroq_.json', 'init=/tmp/tmpxn7broii/o8cg0mbp.json', 'output', 'file=/tmp/tmpxn7broii/prophet_modelvbp3d_3i/prophet_model-20250816174917.csv', 'method=optimize', 'algorithm=lbfgs', 'iter=10000']\n",
      "17:49:17 - cmdstanpy - INFO - Chain [1] start processing\n",
      "INFO\tTask(Task-3) cmdstanpy:model.py:_run_cmdstan()- Chain [1] start processing\n",
      "17:49:17 - cmdstanpy - INFO - Chain [1] done processing\n",
      "INFO\tTask(Task-3) cmdstanpy:model.py:_run_cmdstan()- Chain [1] done processing\n"
     ]
    },
    {
     "data": {
      "image/png": "[encoded data removed]",
      "text/plain": [
       "<Figure size 1200x800 with 1 Axes>"
      ]
     },
     "metadata": {},
     "output_type": "display_data"
    }
   ],
   "source": [
    "# Cell 10 ── Cleaner Prophet forecast with readable labels\n",
    "from prophet import Prophet\n",
    "\n",
    "# Monthly aggregation to reduce noise\n",
    "prop = (df[\"AI_Revenue_USD_Mn\"]\n",
    "        .resample(\"M\")\n",
    "        .mean()\n",
    "        .dropna()\n",
    "        .reset_index()\n",
    "        .rename(columns={\"Date\": \"ds\", \"AI_Revenue_USD_Mn\": \"y\"}))\n",
    "\n",
    "m = Prophet(daily_seasonality=False,\n",
    "            weekly_seasonality=False,\n",
    "            yearly_seasonality=True)\n",
    "m.fit(prop)\n",
    "\n",
    "future = m.make_future_dataframe(periods=3, freq=\"ME\")\n",
    "fcst = m.predict(future)\n",
    "\n",
    "fig, ax = plt.subplots(figsize=(12, 8))\n",
    "m.plot(fcst, ax=ax)\n",
    "\n",
    "# --- extra labels ---\n",
    "ax.set_title(\"AI Revenue – 3-Month Prophet Forecast (monthly data)\")\n",
    "ax.set_xlabel(\"Date\")\n",
    "ax.set_ylabel(\"AI Revenue ($M)\")\n",
    "ax.grid(alpha=0.3)\n",
    "\n",
    "# highlight the forecast region\n",
    "ax.axvline(prop[\"ds\"].max(), color=\"red\", ls=\"--\", lw=1, label=\"Forecast start\")\n",
    "ax.legend()\n",
    "\n",
    "plt.tight_layout()\n",
    "plt.show()"
   ]
  },
  {
   "cell_type": "markdown",
   "metadata": {},
   "source": [
    "## Conclusion\n",
    "\n",
    "This notebook presented a comprehensive analysis of the financial market data, from data loading and preprocessing to model training and forecasting. The results of our analysis and the performance of the model are summarized in this notebook."
   ]
  }
 ],
 "metadata": {
  "kernelspec": {
   "display_name": "jupyter_venv",
   "language": "python",
   "name": "jupyter_venv"
  },
  "language_info": {
   "codemirror_mode": {
    "name": "ipython",
    "version": 3
   },
   "file_extension": ".py",
   "mimetype": "text/x-python",
   "name": "python",
   "nbconvert_exporter": "python",
   "pygments_lexer": "ipython3",
   "version": "3.13.5"
  }
 },
 "nbformat": 4,
 "nbformat_minor": 5
}
